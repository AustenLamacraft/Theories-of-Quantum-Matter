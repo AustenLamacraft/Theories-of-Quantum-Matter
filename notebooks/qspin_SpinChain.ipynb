{
 "cells": [
  {
   "cell_type": "markdown",
   "metadata": {},
   "source": [
    "Note that the `qspin` module uses python 2.7"
   ]
  },
  {
   "cell_type": "code",
   "execution_count": 1,
   "metadata": {
    "collapsed": false
   },
   "outputs": [],
   "source": [
    "from qspin.operators import hamiltonian\n",
    "import numpy as np"
   ]
  },
  {
   "cell_type": "code",
   "execution_count": 2,
   "metadata": {
    "collapsed": false
   },
   "outputs": [
    {
     "name": "stdout",
     "output_type": "stream",
     "text": [
      "Hermiticity check passed!\n",
      "Symmetry checks passed!\n"
     ]
    }
   ],
   "source": [
    "# set total number of lattice sites\n",
    "L=10 \n",
    "# define drive function of time t (called 'func' above)\n",
    "def drive(t,v):\n",
    "  return v*t\n",
    "v=0.01 # set ramp speed\n",
    "# define the function arguments (called 'func_args' above)  \n",
    "drive_args=[v]\n",
    "# define operator strings\n",
    "Jnn_indx=[[-1.0,i,(i+1)%L] for i in range(L)] # nearest-neighbour interaction with periodic BC\n",
    "field_indx=[[-1.0,i] for i in range(L)] # on-site external field\n",
    "# define static and dynamic lists\n",
    "static_list=[['zz',Jnn_indx],['x',field_indx]] # $H_{stat} = \\sum_{j=1}^{L} -\\sigma^z_{j}\\sigma^z_{j+1} - \\sigma^x_j $\n",
    "dynamic_list=[['x',field_indx,drive,drive_args]] # $H_{dyn}(t) = vt\\sum_{j=1}^{L}\\sigma^x_j $\n",
    "# create Hamiltonian object\n",
    "H=hamiltonian(static_list,dynamic_list,N=L,dtype=np.float64)"
   ]
  },
  {
   "cell_type": "code",
   "execution_count": null,
   "metadata": {
    "collapsed": true
   },
   "outputs": [],
   "source": []
  }
 ],
 "metadata": {
  "kernelspec": {
   "display_name": "Python 2",
   "language": "python",
   "name": "python2"
  },
  "language_info": {
   "codemirror_mode": {
    "name": "ipython",
    "version": 2
   },
   "file_extension": ".py",
   "mimetype": "text/x-python",
   "name": "python",
   "nbconvert_exporter": "python",
   "pygments_lexer": "ipython2",
   "version": "2.7.12"
  },
  "nav_menu": {},
  "toc": {
   "navigate_menu": true,
   "number_sections": true,
   "sideBar": true,
   "threshold": 6,
   "toc_cell": false,
   "toc_section_display": "block",
   "toc_window_display": false
  }
 },
 "nbformat": 4,
 "nbformat_minor": 1
}
