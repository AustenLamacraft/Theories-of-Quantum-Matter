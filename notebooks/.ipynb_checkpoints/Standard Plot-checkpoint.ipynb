{
 "cells": [
  {
   "cell_type": "code",
   "execution_count": 8,
   "metadata": {
    "collapsed": true
   },
   "outputs": [],
   "source": [
    "%matplotlib inline\n",
    "import matplotlib.pyplot as plt\n",
    "import numpy as np\n",
    "from matplotlib import rc"
   ]
  },
  {
   "cell_type": "code",
   "execution_count": 9,
   "metadata": {
    "collapsed": true
   },
   "outputs": [],
   "source": [
    "x = np.linspace(-np.pi,np.pi,500)"
   ]
  },
  {
   "cell_type": "code",
   "execution_count": 10,
   "metadata": {},
   "outputs": [
    {
     "data": {
      "text/plain": [
       "<matplotlib.text.Text at 0x10f5b9b00>"
      ]
     },
     "execution_count": 10,
     "metadata": {},
     "output_type": "execute_result"
    },
    {
     "data": {
      "image/png": "[encoded data removed]",
      "text/plain": [
       "<matplotlib.figure.Figure at 0x10f5987b8>"
      ]
     },
     "metadata": {},
     "output_type": "display_data"
    }
   ],
   "source": [
    "plt.plot(x, (1-np.cos(20*x))/np.abs(np.sin(x/2)), label = 'x1')\n",
    "plt.xlabel(r'$\\eta$', fontsize = 20)\n",
    "plt.ylabel(r'$\\frac{1-\\cos(20\\eta)}{\\sin(\\eta/2)}$', fontsize=20)"
   ]
  },
  {
   "cell_type": "markdown",
   "metadata": {
    "collapsed": true
   },
   "source": [
    "The expression derived for the structure factor is\n",
    "\n",
    "$$\n",
    "\\begin{equation}\n",
    "\\begin{split}\n",
    "\\langle 0\\rvert \\rho_q \\rho_{-q} \\lvert 0\\rangle = \\sum_{j,k=1}^N &\\exp(iqa[j-k])\\\\\n",
    "&\\times\\exp\\left(-\\frac{q^2}{2mN}\\sum_{|n| \\leq (N-1)/2} \\frac{1-\\cos\\left(\\eta_n[j-k]\\right)}{\\omega(\\eta_n)}\\right).\n",
    "\\end{split}\n",
    "\\end{equation}\n",
    "$$\n",
    "\n",
    "For a chain of $N$ sites we have $q=2\\pi r/N$ for integer $r$. We then have\n",
    "\n",
    "$$\n",
    "\\begin{equation}\n",
    "\\begin{split}\n",
    "\\langle 0\\rvert \\rho_r \\rho_{-r} \\lvert 0\\rangle = N\\sum_{j=1}^N &\\exp(2\\pi i r j/N)\\\\\n",
    "&\\times\\exp\\left[-\\frac{1}{N}\\left(\\frac{\\pi r\\ell_\\text{osc.}}{Na}\\right)^2\\sum_{|n| \\leq (N-1)/2} \\frac{1-\\cos\\left(\\eta_nj\\right)}{|\\sin\\eta_n/2|}\\right].\n",
    "\\end{split}\n",
    "\\end{equation}\n",
    "$$\n",
    "\n",
    "We can see that the dimensionless parameter governing the strength of the quantum fluctuations is $\\ell_\\text{osc.}/a$."
   ]
  },
  {
   "cell_type": "code",
   "execution_count": 26,
   "metadata": {
    "collapsed": true
   },
   "outputs": [],
   "source": [
    "np.sum?"
   ]
  },
  {
   "cell_type": "code",
   "execution_count": 11,
   "metadata": {},
   "outputs": [
    {
     "data": {
      "text/plain": [
       "[1, 2, 3, 4, 5, 6, 7, 8, 9]"
      ]
     },
     "execution_count": 11,
     "metadata": {},
     "output_type": "execute_result"
    }
   ],
   "source": [
    "list(range(1,10))"
   ]
  },
  {
   "cell_type": "code",
   "execution_count": 41,
   "metadata": {
    "collapsed": true
   },
   "outputs": [],
   "source": [
    "def exponent(N_odd, r, j, ℓ):\n",
    "    η = np.arange(1,(N_odd + 1)/2) * 2 * np.pi / N_odd\n",
    "    return 2 * (np.pi * r * ℓ)**2 / N_odd**3 * np.sum((1-np.cos(η * j)) / np.sin(η/2)) \n",
    "    ## Factor of two, for positive and negative η"
   ]
  },
  {
   "cell_type": "code",
   "execution_count": 42,
   "metadata": {},
   "outputs": [
    {
     "data": {
      "text/plain": [
       "0.053406502530179464"
      ]
     },
     "execution_count": 42,
     "metadata": {},
     "output_type": "execute_result"
    }
   ],
   "source": [
    "exponent(101, 4, 56, 1)"
   ]
  },
  {
   "cell_type": "code",
   "execution_count": 53,
   "metadata": {},
   "outputs": [
    {
     "data": {
      "text/plain": [
       "0.053406502530179457"
      ]
     },
     "execution_count": 53,
     "metadata": {},
     "output_type": "execute_result"
    }
   ],
   "source": [
    "exponent(101, 4, 45, 1)"
   ]
  },
  {
   "cell_type": "code",
   "execution_count": 43,
   "metadata": {
    "collapsed": true
   },
   "outputs": [],
   "source": [
    "def structure_factor(N_odd, r, ℓ):\n",
    "    ks = np.arange(1,N_odd-1)\n",
    "    sr = 0\n",
    "    for k in ks:\n",
    "        sr += np.exp(2j*np.pi*r*k/N_odd) * np.exp(-exponent(N_odd, r, k, ℓ))\n",
    "    return sr"
   ]
  },
  {
   "cell_type": "code",
   "execution_count": 44,
   "metadata": {},
   "outputs": [
    {
     "data": {
      "text/plain": [
       "(-0.0084395560423480877-0.0068159973385369943j)"
      ]
     },
     "execution_count": 44,
     "metadata": {},
     "output_type": "execute_result"
    }
   ],
   "source": [
    "structure_factor(51, 30, 1)"
   ]
  },
  {
   "cell_type": "code",
   "execution_count": 49,
   "metadata": {
    "collapsed": true
   },
   "outputs": [],
   "source": [
    "rs = np.arange(10, 200)"
   ]
  },
  {
   "cell_type": "code",
   "execution_count": 61,
   "metadata": {},
   "outputs": [
    {
     "name": "stderr",
     "output_type": "stream",
     "text": [
      "/Users/austenlamacraft/anaconda/lib/python3.6/site-packages/numpy/core/numeric.py:531: ComplexWarning: Casting complex values to real discards the imaginary part\n",
      "  return array(a, dtype, copy=False, order=order)\n"
     ]
    },
    {
     "data": {
      "text/plain": [
       "<matplotlib.text.Text at 0x110683cc0>"
      ]
     },
     "execution_count": 61,
     "metadata": {},
     "output_type": "execute_result"
    },
    {
     "data": {
      "image/png": "[encoded data removed]",
      "text/plain": [
       "<matplotlib.figure.Figure at 0x1104c4c50>"
      ]
     },
     "metadata": {},
     "output_type": "display_data"
    }
   ],
   "source": [
    "N = 51\n",
    "plt.plot(2*np.pi* rs/N, structure_factor(N, rs, 0.1), label = 'x1')\n",
    "plt.xlabel(r'$qa$', fontsize = 20)\n",
    "plt.ylabel(r'$\\langle 0| \\rho_q \\rho_{-q} | 0\\rangle/N$', fontsize=20)"
   ]
  },
  {
   "cell_type": "code",
   "execution_count": null,
   "metadata": {
    "collapsed": true
   },
   "outputs": [],
   "source": []
  }
 ],
 "metadata": {
  "kernelspec": {
   "display_name": "Python 3",
   "language": "python",
   "name": "python3"
  },
  "language_info": {
   "codemirror_mode": {
    "name": "ipython",
    "version": 3
   },
   "file_extension": ".py",
   "mimetype": "text/x-python",
   "name": "python",
   "nbconvert_exporter": "python",
   "pygments_lexer": "ipython3",
   "version": "3.6.2"
  },
  "latex_envs": {
   "bibliofile": "biblio.bib",
   "cite_by": "apalike",
   "current_citInitial": 1,
   "eqLabelWithNumbers": true,
   "eqNumInitial": 0
  },
  "nav_menu": {},
  "toc": {
   "navigate_menu": true,
   "number_sections": true,
   "sideBar": true,
   "threshold": 6,
   "toc_cell": false,
   "toc_section_display": "block",
   "toc_window_display": false
  }
 },
 "nbformat": 4,
 "nbformat_minor": 1
}
